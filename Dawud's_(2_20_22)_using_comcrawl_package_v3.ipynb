{
  "cells": [
    {
      "cell_type": "markdown",
      "metadata": {
        "id": "view-in-github",
        "colab_type": "text"
      },
      "source": [
        "<a href=\"https://colab.research.google.com/github/Dawudis/ComCrawl-Meta-Data-Extraction/blob/main/Dawud's_(2_20_22)_using_comcrawl_package_v3.ipynb\" target=\"_parent\"><img src=\"https://colab.research.google.com/assets/colab-badge.svg\" alt=\"Open In Colab\"/></a>"
      ]
    },
    {
      "cell_type": "markdown",
      "metadata": {
        "id": "L7AWf-aJiN-F"
      },
      "source": [
        "# **Comcrawling the Articles**"
      ]
    },
    {
      "cell_type": "code",
      "execution_count": null,
      "metadata": {
        "id": "v4fBhtvrJcrS"
      },
      "outputs": [],
      "source": [
        "!pip install comcrawl"
      ]
    },
    {
      "cell_type": "code",
      "execution_count": null,
      "metadata": {
        "id": "LwfafXV_jlCw"
      },
      "outputs": [],
      "source": [
        "import pandas as pd\n",
        "from comcrawl import IndexClient"
      ]
    },
    {
      "cell_type": "code",
      "execution_count": null,
      "metadata": {
        "id": "nYjgnDqxKnEv"
      },
      "outputs": [],
      "source": [
        "#the IndexClient date slot refers to the time of the crawl\n",
        "#you can find this in Common Crawl's Index Server\n",
        "client = IndexClient([\"2020-10\"]) #2020-10 refers to February of 2020\n",
        "#put in the website you wish to crawl\n",
        "client.search(\"communityimpact.com/*\")"
      ]
    },
    {
      "cell_type": "code",
      "execution_count": null,
      "metadata": {
        "id": "5z3Yqd9ljncF"
      },
      "outputs": [],
      "source": [
        "df = pd.DataFrame(client.results)"
      ]
    },
    {
      "cell_type": "code",
      "execution_count": null,
      "metadata": {
        "colab": {
          "base_uri": "https://localhost:8080/",
          "height": 374
        },
        "id": "qN6tH1sstOma",
        "outputId": "dc75f237-023b-4fa6-e506-3dc89ef239f8"
      },
      "outputs": [
        {
          "output_type": "execute_result",
          "data": {
            "text/plain": [
              "                                              urlkey       timestamp  \\\n",
              "0                              com,communityimpact)/  20200222222042   \n",
              "1                              com,communityimpact)/  20200222222042   \n",
              "2                              com,communityimpact)/  20200222222042   \n",
              "3  com,communityimpact)/2013/02/13/peoples-signat...  20200225023848   \n",
              "4  com,communityimpact)/2013/02/13/peoples-signat...  20200225023848   \n",
              "\n",
              "                                                 url       mime mime-detected  \\\n",
              "0                        http://communityimpact.com/  text/html     text/html   \n",
              "1                       https://communityimpact.com/  text/html     text/html   \n",
              "2                   https://www.communityimpact.com/  text/html     text/html   \n",
              "3  http://communityimpact.com/2013/02/13/peoples-...  text/html     text/html   \n",
              "4  https://communityimpact.com/2013/02/13/peoples...  text/html     text/html   \n",
              "\n",
              "  status                            digest length     offset  \\\n",
              "0    301  HLNR6AWVWYCU3YAENY3HYHLIPNWN66X7    584    1709926   \n",
              "1    200  Q6NM7LCPD74GTA7QV7I6LPCZEYPFWPVW  19371  332083353   \n",
              "2    301  H3MHF6R2ACBXXMAIVWOSAGCQ4LVFPJ47    748   29853390   \n",
              "3    301  HLNR6AWVWYCU3YAENY3HYHLIPNWN66X7    611    1852266   \n",
              "4    404  6FBU53S3XORGYAY2F6Z7WDNYGVXE4NFZ  18269   16292257   \n",
              "\n",
              "                                            filename  \\\n",
              "0  crawl-data/CC-MAIN-2020-10/segments/1581875145...   \n",
              "1  crawl-data/CC-MAIN-2020-10/segments/1581875145...   \n",
              "2  crawl-data/CC-MAIN-2020-10/segments/1581875145...   \n",
              "3  crawl-data/CC-MAIN-2020-10/segments/1581875146...   \n",
              "4  crawl-data/CC-MAIN-2020-10/segments/1581875146...   \n",
              "\n",
              "                                            redirect languages encoding  \n",
              "0                       https://communityimpact.com/       NaN      NaN  \n",
              "1                                                NaN       eng    UTF-8  \n",
              "2                        http://communityimpact.com/       NaN      NaN  \n",
              "3  https://communityimpact.com/2013/02/13/peoples...       NaN      NaN  \n",
              "4                                                NaN       NaN      NaN  "
            ],
            "text/html": [
              "\n",
              "  <div id=\"df-91cd2213-d233-4849-ac49-d929893dd1a7\">\n",
              "    <div class=\"colab-df-container\">\n",
              "      <div>\n",
              "<style scoped>\n",
              "    .dataframe tbody tr th:only-of-type {\n",
              "        vertical-align: middle;\n",
              "    }\n",
              "\n",
              "    .dataframe tbody tr th {\n",
              "        vertical-align: top;\n",
              "    }\n",
              "\n",
              "    .dataframe thead th {\n",
              "        text-align: right;\n",
              "    }\n",
              "</style>\n",
              "<table border=\"1\" class=\"dataframe\">\n",
              "  <thead>\n",
              "    <tr style=\"text-align: right;\">\n",
              "      <th></th>\n",
              "      <th>urlkey</th>\n",
              "      <th>timestamp</th>\n",
              "      <th>url</th>\n",
              "      <th>mime</th>\n",
              "      <th>mime-detected</th>\n",
              "      <th>status</th>\n",
              "      <th>digest</th>\n",
              "      <th>length</th>\n",
              "      <th>offset</th>\n",
              "      <th>filename</th>\n",
              "      <th>redirect</th>\n",
              "      <th>languages</th>\n",
              "      <th>encoding</th>\n",
              "    </tr>\n",
              "  </thead>\n",
              "  <tbody>\n",
              "    <tr>\n",
              "      <th>0</th>\n",
              "      <td>com,communityimpact)/</td>\n",
              "      <td>20200222222042</td>\n",
              "      <td>http://communityimpact.com/</td>\n",
              "      <td>text/html</td>\n",
              "      <td>text/html</td>\n",
              "      <td>301</td>\n",
              "      <td>HLNR6AWVWYCU3YAENY3HYHLIPNWN66X7</td>\n",
              "      <td>584</td>\n",
              "      <td>1709926</td>\n",
              "      <td>crawl-data/CC-MAIN-2020-10/segments/1581875145...</td>\n",
              "      <td>https://communityimpact.com/</td>\n",
              "      <td>NaN</td>\n",
              "      <td>NaN</td>\n",
              "    </tr>\n",
              "    <tr>\n",
              "      <th>1</th>\n",
              "      <td>com,communityimpact)/</td>\n",
              "      <td>20200222222042</td>\n",
              "      <td>https://communityimpact.com/</td>\n",
              "      <td>text/html</td>\n",
              "      <td>text/html</td>\n",
              "      <td>200</td>\n",
              "      <td>Q6NM7LCPD74GTA7QV7I6LPCZEYPFWPVW</td>\n",
              "      <td>19371</td>\n",
              "      <td>332083353</td>\n",
              "      <td>crawl-data/CC-MAIN-2020-10/segments/1581875145...</td>\n",
              "      <td>NaN</td>\n",
              "      <td>eng</td>\n",
              "      <td>UTF-8</td>\n",
              "    </tr>\n",
              "    <tr>\n",
              "      <th>2</th>\n",
              "      <td>com,communityimpact)/</td>\n",
              "      <td>20200222222042</td>\n",
              "      <td>https://www.communityimpact.com/</td>\n",
              "      <td>text/html</td>\n",
              "      <td>text/html</td>\n",
              "      <td>301</td>\n",
              "      <td>H3MHF6R2ACBXXMAIVWOSAGCQ4LVFPJ47</td>\n",
              "      <td>748</td>\n",
              "      <td>29853390</td>\n",
              "      <td>crawl-data/CC-MAIN-2020-10/segments/1581875145...</td>\n",
              "      <td>http://communityimpact.com/</td>\n",
              "      <td>NaN</td>\n",
              "      <td>NaN</td>\n",
              "    </tr>\n",
              "    <tr>\n",
              "      <th>3</th>\n",
              "      <td>com,communityimpact)/2013/02/13/peoples-signat...</td>\n",
              "      <td>20200225023848</td>\n",
              "      <td>http://communityimpact.com/2013/02/13/peoples-...</td>\n",
              "      <td>text/html</td>\n",
              "      <td>text/html</td>\n",
              "      <td>301</td>\n",
              "      <td>HLNR6AWVWYCU3YAENY3HYHLIPNWN66X7</td>\n",
              "      <td>611</td>\n",
              "      <td>1852266</td>\n",
              "      <td>crawl-data/CC-MAIN-2020-10/segments/1581875146...</td>\n",
              "      <td>https://communityimpact.com/2013/02/13/peoples...</td>\n",
              "      <td>NaN</td>\n",
              "      <td>NaN</td>\n",
              "    </tr>\n",
              "    <tr>\n",
              "      <th>4</th>\n",
              "      <td>com,communityimpact)/2013/02/13/peoples-signat...</td>\n",
              "      <td>20200225023848</td>\n",
              "      <td>https://communityimpact.com/2013/02/13/peoples...</td>\n",
              "      <td>text/html</td>\n",
              "      <td>text/html</td>\n",
              "      <td>404</td>\n",
              "      <td>6FBU53S3XORGYAY2F6Z7WDNYGVXE4NFZ</td>\n",
              "      <td>18269</td>\n",
              "      <td>16292257</td>\n",
              "      <td>crawl-data/CC-MAIN-2020-10/segments/1581875146...</td>\n",
              "      <td>NaN</td>\n",
              "      <td>NaN</td>\n",
              "      <td>NaN</td>\n",
              "    </tr>\n",
              "  </tbody>\n",
              "</table>\n",
              "</div>\n",
              "      <button class=\"colab-df-convert\" onclick=\"convertToInteractive('df-91cd2213-d233-4849-ac49-d929893dd1a7')\"\n",
              "              title=\"Convert this dataframe to an interactive table.\"\n",
              "              style=\"display:none;\">\n",
              "        \n",
              "  <svg xmlns=\"http://www.w3.org/2000/svg\" height=\"24px\"viewBox=\"0 0 24 24\"\n",
              "       width=\"24px\">\n",
              "    <path d=\"M0 0h24v24H0V0z\" fill=\"none\"/>\n",
              "    <path d=\"M18.56 5.44l.94 2.06.94-2.06 2.06-.94-2.06-.94-.94-2.06-.94 2.06-2.06.94zm-11 1L8.5 8.5l.94-2.06 2.06-.94-2.06-.94L8.5 2.5l-.94 2.06-2.06.94zm10 10l.94 2.06.94-2.06 2.06-.94-2.06-.94-.94-2.06-.94 2.06-2.06.94z\"/><path d=\"M17.41 7.96l-1.37-1.37c-.4-.4-.92-.59-1.43-.59-.52 0-1.04.2-1.43.59L10.3 9.45l-7.72 7.72c-.78.78-.78 2.05 0 2.83L4 21.41c.39.39.9.59 1.41.59.51 0 1.02-.2 1.41-.59l7.78-7.78 2.81-2.81c.8-.78.8-2.07 0-2.86zM5.41 20L4 18.59l7.72-7.72 1.47 1.35L5.41 20z\"/>\n",
              "  </svg>\n",
              "      </button>\n",
              "      \n",
              "  <style>\n",
              "    .colab-df-container {\n",
              "      display:flex;\n",
              "      flex-wrap:wrap;\n",
              "      gap: 12px;\n",
              "    }\n",
              "\n",
              "    .colab-df-convert {\n",
              "      background-color: #E8F0FE;\n",
              "      border: none;\n",
              "      border-radius: 50%;\n",
              "      cursor: pointer;\n",
              "      display: none;\n",
              "      fill: #1967D2;\n",
              "      height: 32px;\n",
              "      padding: 0 0 0 0;\n",
              "      width: 32px;\n",
              "    }\n",
              "\n",
              "    .colab-df-convert:hover {\n",
              "      background-color: #E2EBFA;\n",
              "      box-shadow: 0px 1px 2px rgba(60, 64, 67, 0.3), 0px 1px 3px 1px rgba(60, 64, 67, 0.15);\n",
              "      fill: #174EA6;\n",
              "    }\n",
              "\n",
              "    [theme=dark] .colab-df-convert {\n",
              "      background-color: #3B4455;\n",
              "      fill: #D2E3FC;\n",
              "    }\n",
              "\n",
              "    [theme=dark] .colab-df-convert:hover {\n",
              "      background-color: #434B5C;\n",
              "      box-shadow: 0px 1px 3px 1px rgba(0, 0, 0, 0.15);\n",
              "      filter: drop-shadow(0px 1px 2px rgba(0, 0, 0, 0.3));\n",
              "      fill: #FFFFFF;\n",
              "    }\n",
              "  </style>\n",
              "\n",
              "      <script>\n",
              "        const buttonEl =\n",
              "          document.querySelector('#df-91cd2213-d233-4849-ac49-d929893dd1a7 button.colab-df-convert');\n",
              "        buttonEl.style.display =\n",
              "          google.colab.kernel.accessAllowed ? 'block' : 'none';\n",
              "\n",
              "        async function convertToInteractive(key) {\n",
              "          const element = document.querySelector('#df-91cd2213-d233-4849-ac49-d929893dd1a7');\n",
              "          const dataTable =\n",
              "            await google.colab.kernel.invokeFunction('convertToInteractive',\n",
              "                                                     [key], {});\n",
              "          if (!dataTable) return;\n",
              "\n",
              "          const docLinkHtml = 'Like what you see? Visit the ' +\n",
              "            '<a target=\"_blank\" href=https://colab.research.google.com/notebooks/data_table.ipynb>data table notebook</a>'\n",
              "            + ' to learn more about interactive tables.';\n",
              "          element.innerHTML = '';\n",
              "          dataTable['output_type'] = 'display_data';\n",
              "          await google.colab.output.renderOutput(dataTable, element);\n",
              "          const docLink = document.createElement('div');\n",
              "          docLink.innerHTML = docLinkHtml;\n",
              "          element.appendChild(docLink);\n",
              "        }\n",
              "      </script>\n",
              "    </div>\n",
              "  </div>\n",
              "  "
            ]
          },
          "metadata": {},
          "execution_count": 5
        }
      ],
      "source": [
        "df.head()"
      ]
    },
    {
      "cell_type": "markdown",
      "source": [
        "# **Dataset Pre-Processing**"
      ],
      "metadata": {
        "id": "U5Kmoe_ImxvY"
      }
    },
    {
      "cell_type": "code",
      "execution_count": null,
      "metadata": {
        "id": "z01yiWNFnR3S"
      },
      "outputs": [],
      "source": [
        "#ComCrawl gives lots of information within each row, but for this project, we only need the url columns\n",
        "df.drop(['urlkey','timestamp','mime','mime-detected','status','digest','length','offset','filename','languages','encoding','redirect'], axis=1, inplace=True)"
      ]
    },
    {
      "cell_type": "code",
      "execution_count": null,
      "metadata": {
        "id": "vBY2tvBYrrCr"
      },
      "outputs": [],
      "source": [
        "#taking a closer look, there are many duplicate urls with https/http difference\n",
        "#so we drop any row that doesn't have https\n",
        "data = df[df['url'].str.contains('https', na = False)]"
      ]
    },
    {
      "cell_type": "code",
      "execution_count": null,
      "metadata": {
        "id": "75hOoaxGX2Gc"
      },
      "outputs": [],
      "source": [
        "#drop any extra duplicates\n",
        "data1 = data.drop_duplicates()"
      ]
    },
    {
      "cell_type": "code",
      "execution_count": null,
      "metadata": {
        "colab": {
          "base_uri": "https://localhost:8080/",
          "height": 206
        },
        "id": "Ts01laugtScx",
        "outputId": "00ea5326-8baa-4c03-c36a-ee333d42442b"
      },
      "outputs": [
        {
          "output_type": "execute_result",
          "data": {
            "text/plain": [
              "                                                 url\n",
              "1                       https://communityimpact.com/\n",
              "2                   https://www.communityimpact.com/\n",
              "4  https://communityimpact.com/2013/02/13/peoples...\n",
              "6  https://communityimpact.com/2013/04/30/luxury-...\n",
              "8  https://communityimpact.com/2014/08/20/houston..."
            ],
            "text/html": [
              "\n",
              "  <div id=\"df-39427484-fa54-4343-a207-70623b0df84d\">\n",
              "    <div class=\"colab-df-container\">\n",
              "      <div>\n",
              "<style scoped>\n",
              "    .dataframe tbody tr th:only-of-type {\n",
              "        vertical-align: middle;\n",
              "    }\n",
              "\n",
              "    .dataframe tbody tr th {\n",
              "        vertical-align: top;\n",
              "    }\n",
              "\n",
              "    .dataframe thead th {\n",
              "        text-align: right;\n",
              "    }\n",
              "</style>\n",
              "<table border=\"1\" class=\"dataframe\">\n",
              "  <thead>\n",
              "    <tr style=\"text-align: right;\">\n",
              "      <th></th>\n",
              "      <th>url</th>\n",
              "    </tr>\n",
              "  </thead>\n",
              "  <tbody>\n",
              "    <tr>\n",
              "      <th>1</th>\n",
              "      <td>https://communityimpact.com/</td>\n",
              "    </tr>\n",
              "    <tr>\n",
              "      <th>2</th>\n",
              "      <td>https://www.communityimpact.com/</td>\n",
              "    </tr>\n",
              "    <tr>\n",
              "      <th>4</th>\n",
              "      <td>https://communityimpact.com/2013/02/13/peoples...</td>\n",
              "    </tr>\n",
              "    <tr>\n",
              "      <th>6</th>\n",
              "      <td>https://communityimpact.com/2013/04/30/luxury-...</td>\n",
              "    </tr>\n",
              "    <tr>\n",
              "      <th>8</th>\n",
              "      <td>https://communityimpact.com/2014/08/20/houston...</td>\n",
              "    </tr>\n",
              "  </tbody>\n",
              "</table>\n",
              "</div>\n",
              "      <button class=\"colab-df-convert\" onclick=\"convertToInteractive('df-39427484-fa54-4343-a207-70623b0df84d')\"\n",
              "              title=\"Convert this dataframe to an interactive table.\"\n",
              "              style=\"display:none;\">\n",
              "        \n",
              "  <svg xmlns=\"http://www.w3.org/2000/svg\" height=\"24px\"viewBox=\"0 0 24 24\"\n",
              "       width=\"24px\">\n",
              "    <path d=\"M0 0h24v24H0V0z\" fill=\"none\"/>\n",
              "    <path d=\"M18.56 5.44l.94 2.06.94-2.06 2.06-.94-2.06-.94-.94-2.06-.94 2.06-2.06.94zm-11 1L8.5 8.5l.94-2.06 2.06-.94-2.06-.94L8.5 2.5l-.94 2.06-2.06.94zm10 10l.94 2.06.94-2.06 2.06-.94-2.06-.94-.94-2.06-.94 2.06-2.06.94z\"/><path d=\"M17.41 7.96l-1.37-1.37c-.4-.4-.92-.59-1.43-.59-.52 0-1.04.2-1.43.59L10.3 9.45l-7.72 7.72c-.78.78-.78 2.05 0 2.83L4 21.41c.39.39.9.59 1.41.59.51 0 1.02-.2 1.41-.59l7.78-7.78 2.81-2.81c.8-.78.8-2.07 0-2.86zM5.41 20L4 18.59l7.72-7.72 1.47 1.35L5.41 20z\"/>\n",
              "  </svg>\n",
              "      </button>\n",
              "      \n",
              "  <style>\n",
              "    .colab-df-container {\n",
              "      display:flex;\n",
              "      flex-wrap:wrap;\n",
              "      gap: 12px;\n",
              "    }\n",
              "\n",
              "    .colab-df-convert {\n",
              "      background-color: #E8F0FE;\n",
              "      border: none;\n",
              "      border-radius: 50%;\n",
              "      cursor: pointer;\n",
              "      display: none;\n",
              "      fill: #1967D2;\n",
              "      height: 32px;\n",
              "      padding: 0 0 0 0;\n",
              "      width: 32px;\n",
              "    }\n",
              "\n",
              "    .colab-df-convert:hover {\n",
              "      background-color: #E2EBFA;\n",
              "      box-shadow: 0px 1px 2px rgba(60, 64, 67, 0.3), 0px 1px 3px 1px rgba(60, 64, 67, 0.15);\n",
              "      fill: #174EA6;\n",
              "    }\n",
              "\n",
              "    [theme=dark] .colab-df-convert {\n",
              "      background-color: #3B4455;\n",
              "      fill: #D2E3FC;\n",
              "    }\n",
              "\n",
              "    [theme=dark] .colab-df-convert:hover {\n",
              "      background-color: #434B5C;\n",
              "      box-shadow: 0px 1px 3px 1px rgba(0, 0, 0, 0.15);\n",
              "      filter: drop-shadow(0px 1px 2px rgba(0, 0, 0, 0.3));\n",
              "      fill: #FFFFFF;\n",
              "    }\n",
              "  </style>\n",
              "\n",
              "      <script>\n",
              "        const buttonEl =\n",
              "          document.querySelector('#df-39427484-fa54-4343-a207-70623b0df84d button.colab-df-convert');\n",
              "        buttonEl.style.display =\n",
              "          google.colab.kernel.accessAllowed ? 'block' : 'none';\n",
              "\n",
              "        async function convertToInteractive(key) {\n",
              "          const element = document.querySelector('#df-39427484-fa54-4343-a207-70623b0df84d');\n",
              "          const dataTable =\n",
              "            await google.colab.kernel.invokeFunction('convertToInteractive',\n",
              "                                                     [key], {});\n",
              "          if (!dataTable) return;\n",
              "\n",
              "          const docLinkHtml = 'Like what you see? Visit the ' +\n",
              "            '<a target=\"_blank\" href=https://colab.research.google.com/notebooks/data_table.ipynb>data table notebook</a>'\n",
              "            + ' to learn more about interactive tables.';\n",
              "          element.innerHTML = '';\n",
              "          dataTable['output_type'] = 'display_data';\n",
              "          await google.colab.output.renderOutput(dataTable, element);\n",
              "          const docLink = document.createElement('div');\n",
              "          docLink.innerHTML = docLinkHtml;\n",
              "          element.appendChild(docLink);\n",
              "        }\n",
              "      </script>\n",
              "    </div>\n",
              "  </div>\n",
              "  "
            ]
          },
          "metadata": {},
          "execution_count": 9
        }
      ],
      "source": [
        "data1.head()"
      ]
    },
    {
      "cell_type": "markdown",
      "metadata": {
        "id": "ELas2CRWiK8D"
      },
      "source": [
        "# **Meta-Data Extraction**"
      ]
    },
    {
      "cell_type": "code",
      "execution_count": null,
      "metadata": {
        "id": "u11CReWjiJeR"
      },
      "outputs": [],
      "source": [
        "from urllib.request import urlopen\n",
        "from bs4 import BeautifulSoup\n",
        "import requests"
      ]
    },
    {
      "cell_type": "code",
      "execution_count": null,
      "metadata": {
        "id": "PRu72zRro6v7"
      },
      "outputs": [],
      "source": [
        "#code to get meta-titles\n",
        "titles = []\n",
        "\n",
        "for i in data1['url']:\n",
        "  reqs = requests.get(i)\n",
        "  soup = BeautifulSoup(reqs.text, 'html.parser')\n",
        "  title = soup.find(\"meta\", property=\"og:title\")\n",
        "  titles.append(title[\"content\"] if title else \"No meta title given\")"
      ]
    },
    {
      "cell_type": "code",
      "execution_count": null,
      "metadata": {
        "id": "46bURg6HpIBT"
      },
      "outputs": [],
      "source": [
        "#make a column 'titles' with the extracted titles\n",
        "data1['titles'] = titles"
      ]
    },
    {
      "cell_type": "code",
      "execution_count": null,
      "metadata": {
        "id": "bYsSnLbJo_GA"
      },
      "outputs": [],
      "source": [
        "#code to get meta-descriptions\n",
        "descriptions = []\n",
        "\n",
        "for i in data1['url']:\n",
        "  reqs = requests.get(i)\n",
        "  soup = BeautifulSoup(reqs.text, 'html.parser')\n",
        "  description = soup.find(\"meta\", property=\"og:description\")\n",
        "  descriptions.append(description[\"content\"] if description else \"No meta description given\")"
      ]
    },
    {
      "cell_type": "code",
      "execution_count": null,
      "metadata": {
        "id": "muC_fGzVpHi_"
      },
      "outputs": [],
      "source": [
        "#make a column 'descriptions' with the extracted descriptions\n",
        "data1['descriptions'] = descriptions"
      ]
    },
    {
      "cell_type": "code",
      "execution_count": null,
      "metadata": {
        "id": "_8wfINn4pinE",
        "colab": {
          "base_uri": "https://localhost:8080/",
          "height": 478
        },
        "outputId": "0c3f6cb3-e88a-4505-df83-b029e9539fc9"
      },
      "outputs": [
        {
          "output_type": "execute_result",
          "data": {
            "text/plain": [
              "                                                 url  \\\n",
              "1                       https://communityimpact.com/   \n",
              "2                   https://www.communityimpact.com/   \n",
              "4  https://communityimpact.com/2013/02/13/peoples...   \n",
              "6  https://communityimpact.com/2013/04/30/luxury-...   \n",
              "8  https://communityimpact.com/2014/08/20/houston...   \n",
              "\n",
              "                                            titles  \\\n",
              "1                              No meta title given   \n",
              "2                              No meta title given   \n",
              "4                      People's Signature Flooring   \n",
              "6  Luxury car auction set for resort in Montgomery   \n",
              "8                Houston battles human trafficking   \n",
              "\n",
              "                                      descriptions  \n",
              "1                        No meta description given  \n",
              "2                        No meta description given  \n",
              "4                      People's Signature Flooring  \n",
              "6  Luxury car auction set for resort in Montgomery  \n",
              "8                Houston battles human trafficking  "
            ],
            "text/html": [
              "\n",
              "  <div id=\"df-5d422973-9392-4438-ba24-2a0384e4a285\">\n",
              "    <div class=\"colab-df-container\">\n",
              "      <div>\n",
              "<style scoped>\n",
              "    .dataframe tbody tr th:only-of-type {\n",
              "        vertical-align: middle;\n",
              "    }\n",
              "\n",
              "    .dataframe tbody tr th {\n",
              "        vertical-align: top;\n",
              "    }\n",
              "\n",
              "    .dataframe thead th {\n",
              "        text-align: right;\n",
              "    }\n",
              "</style>\n",
              "<table border=\"1\" class=\"dataframe\">\n",
              "  <thead>\n",
              "    <tr style=\"text-align: right;\">\n",
              "      <th></th>\n",
              "      <th>url</th>\n",
              "      <th>titles</th>\n",
              "      <th>descriptions</th>\n",
              "    </tr>\n",
              "  </thead>\n",
              "  <tbody>\n",
              "    <tr>\n",
              "      <th>1</th>\n",
              "      <td>https://communityimpact.com/</td>\n",
              "      <td>No meta title given</td>\n",
              "      <td>No meta description given</td>\n",
              "    </tr>\n",
              "    <tr>\n",
              "      <th>2</th>\n",
              "      <td>https://www.communityimpact.com/</td>\n",
              "      <td>No meta title given</td>\n",
              "      <td>No meta description given</td>\n",
              "    </tr>\n",
              "    <tr>\n",
              "      <th>4</th>\n",
              "      <td>https://communityimpact.com/2013/02/13/peoples...</td>\n",
              "      <td>People's Signature Flooring</td>\n",
              "      <td>People's Signature Flooring</td>\n",
              "    </tr>\n",
              "    <tr>\n",
              "      <th>6</th>\n",
              "      <td>https://communityimpact.com/2013/04/30/luxury-...</td>\n",
              "      <td>Luxury car auction set for resort in Montgomery</td>\n",
              "      <td>Luxury car auction set for resort in Montgomery</td>\n",
              "    </tr>\n",
              "    <tr>\n",
              "      <th>8</th>\n",
              "      <td>https://communityimpact.com/2014/08/20/houston...</td>\n",
              "      <td>Houston battles human trafficking</td>\n",
              "      <td>Houston battles human trafficking</td>\n",
              "    </tr>\n",
              "  </tbody>\n",
              "</table>\n",
              "</div>\n",
              "      <button class=\"colab-df-convert\" onclick=\"convertToInteractive('df-5d422973-9392-4438-ba24-2a0384e4a285')\"\n",
              "              title=\"Convert this dataframe to an interactive table.\"\n",
              "              style=\"display:none;\">\n",
              "        \n",
              "  <svg xmlns=\"http://www.w3.org/2000/svg\" height=\"24px\"viewBox=\"0 0 24 24\"\n",
              "       width=\"24px\">\n",
              "    <path d=\"M0 0h24v24H0V0z\" fill=\"none\"/>\n",
              "    <path d=\"M18.56 5.44l.94 2.06.94-2.06 2.06-.94-2.06-.94-.94-2.06-.94 2.06-2.06.94zm-11 1L8.5 8.5l.94-2.06 2.06-.94-2.06-.94L8.5 2.5l-.94 2.06-2.06.94zm10 10l.94 2.06.94-2.06 2.06-.94-2.06-.94-.94-2.06-.94 2.06-2.06.94z\"/><path d=\"M17.41 7.96l-1.37-1.37c-.4-.4-.92-.59-1.43-.59-.52 0-1.04.2-1.43.59L10.3 9.45l-7.72 7.72c-.78.78-.78 2.05 0 2.83L4 21.41c.39.39.9.59 1.41.59.51 0 1.02-.2 1.41-.59l7.78-7.78 2.81-2.81c.8-.78.8-2.07 0-2.86zM5.41 20L4 18.59l7.72-7.72 1.47 1.35L5.41 20z\"/>\n",
              "  </svg>\n",
              "      </button>\n",
              "      \n",
              "  <style>\n",
              "    .colab-df-container {\n",
              "      display:flex;\n",
              "      flex-wrap:wrap;\n",
              "      gap: 12px;\n",
              "    }\n",
              "\n",
              "    .colab-df-convert {\n",
              "      background-color: #E8F0FE;\n",
              "      border: none;\n",
              "      border-radius: 50%;\n",
              "      cursor: pointer;\n",
              "      display: none;\n",
              "      fill: #1967D2;\n",
              "      height: 32px;\n",
              "      padding: 0 0 0 0;\n",
              "      width: 32px;\n",
              "    }\n",
              "\n",
              "    .colab-df-convert:hover {\n",
              "      background-color: #E2EBFA;\n",
              "      box-shadow: 0px 1px 2px rgba(60, 64, 67, 0.3), 0px 1px 3px 1px rgba(60, 64, 67, 0.15);\n",
              "      fill: #174EA6;\n",
              "    }\n",
              "\n",
              "    [theme=dark] .colab-df-convert {\n",
              "      background-color: #3B4455;\n",
              "      fill: #D2E3FC;\n",
              "    }\n",
              "\n",
              "    [theme=dark] .colab-df-convert:hover {\n",
              "      background-color: #434B5C;\n",
              "      box-shadow: 0px 1px 3px 1px rgba(0, 0, 0, 0.15);\n",
              "      filter: drop-shadow(0px 1px 2px rgba(0, 0, 0, 0.3));\n",
              "      fill: #FFFFFF;\n",
              "    }\n",
              "  </style>\n",
              "\n",
              "      <script>\n",
              "        const buttonEl =\n",
              "          document.querySelector('#df-5d422973-9392-4438-ba24-2a0384e4a285 button.colab-df-convert');\n",
              "        buttonEl.style.display =\n",
              "          google.colab.kernel.accessAllowed ? 'block' : 'none';\n",
              "\n",
              "        async function convertToInteractive(key) {\n",
              "          const element = document.querySelector('#df-5d422973-9392-4438-ba24-2a0384e4a285');\n",
              "          const dataTable =\n",
              "            await google.colab.kernel.invokeFunction('convertToInteractive',\n",
              "                                                     [key], {});\n",
              "          if (!dataTable) return;\n",
              "\n",
              "          const docLinkHtml = 'Like what you see? Visit the ' +\n",
              "            '<a target=\"_blank\" href=https://colab.research.google.com/notebooks/data_table.ipynb>data table notebook</a>'\n",
              "            + ' to learn more about interactive tables.';\n",
              "          element.innerHTML = '';\n",
              "          dataTable['output_type'] = 'display_data';\n",
              "          await google.colab.output.renderOutput(dataTable, element);\n",
              "          const docLink = document.createElement('div');\n",
              "          docLink.innerHTML = docLinkHtml;\n",
              "          element.appendChild(docLink);\n",
              "        }\n",
              "      </script>\n",
              "    </div>\n",
              "  </div>\n",
              "  "
            ]
          },
          "metadata": {},
          "execution_count": 15
        }
      ],
      "source": [
        "data1.head()"
      ]
    }
  ],
  "metadata": {
    "colab": {
      "collapsed_sections": [],
      "name": "Dawud's (2-20-22) using comcrawl package_v3.ipynb",
      "provenance": [],
      "include_colab_link": true
    },
    "kernelspec": {
      "display_name": "Python 3",
      "name": "python3"
    },
    "language_info": {
      "name": "python"
    }
  },
  "nbformat": 4,
  "nbformat_minor": 0
}